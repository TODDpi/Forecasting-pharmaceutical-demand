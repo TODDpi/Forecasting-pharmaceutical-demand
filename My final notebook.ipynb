{
 "cells": [
  {
   "cell_type": "markdown",
   "metadata": {},
   "source": [
    "Step 1: Sort excel data in an array."
   ]
  },
  {
   "cell_type": "code",
   "execution_count": 18,
   "metadata": {},
   "outputs": [],
   "source": [
    "import pandas as pd\n",
    "\n",
    "excel_file = \"F:\\Thesis\\salesdaily-kaggle.xlsx\"\n",
    "sheet_name = \"Worksheet\"\n",
    "column_name = \"M01AB\"\n",
    "\n",
    "df = pd.read_excel(excel_file, sheet_name=sheet_name)\n",
    "\n",
    "# Extract the specified column as a list\n",
    "my_list = df[column_name].tolist()\n",
    "\n"
   ]
  },
  {
   "cell_type": "markdown",
   "metadata": {},
   "source": [
    "Step 2: Data preparation"
   ]
  },
  {
   "cell_type": "code",
   "execution_count": 19,
   "metadata": {},
   "outputs": [],
   "source": [
    "from numpy import array\n",
    " \n",
    "# split a univariate sequence into samples\n",
    "def split_sequence(sequence, n_steps):\n",
    " X, y = list(), list()\n",
    " for i in range(len(sequence)):\n",
    " # find the end of this pattern\n",
    "    end_ix = i + n_steps\n",
    " # check if we are beyond the sequence\n",
    "    if end_ix > len(sequence)-1:\n",
    "        break\n",
    " # gather input and output parts of the pattern\n",
    "    else:\n",
    "        seq_x, seq_y = sequence[i:end_ix], sequence[end_ix]\n",
    "    X.append(seq_x)\n",
    "    y.append(seq_y)\n",
    " return array(X), array(y)\n",
    " \n",
    "# define input sequence\n",
    "raw_seq = my_list\n",
    "# choose a number of time steps\n",
    "n_steps = 6\n",
    "# split into samples\n",
    "X, y = split_sequence(raw_seq, n_steps)\n",
    "# summarize the data\n",
    "#for i in range(len(X)):\n",
    " #print(X[i], y[i])"
   ]
  },
  {
   "cell_type": "markdown",
   "metadata": {},
   "source": [
    "Step 3: Test-train split"
   ]
  },
  {
   "cell_type": "code",
   "execution_count": 23,
   "metadata": {},
   "outputs": [],
   "source": [
    "from sklearn.model_selection import train_test_split\n",
    "X_train, X_test,y_train, y_test=train_test_split(X,y,test_size=.2,random_state=10)\n",
    "#print(X_train,y_train)"
   ]
  },
  {
   "cell_type": "markdown",
   "metadata": {},
   "source": [
    "Step 4: Neural network skeleton\n"
   ]
  },
  {
   "cell_type": "code",
   "execution_count": 35,
   "metadata": {},
   "outputs": [
    {
     "name": "stdout",
     "output_type": "stream",
     "text": [
      "Epoch 1/20\n",
      "53/53 [==============================] - 1s 2ms/step - loss: 18.3452\n",
      "Epoch 2/20\n",
      "53/53 [==============================] - 0s 2ms/step - loss: 12.8839\n",
      "Epoch 3/20\n",
      "53/53 [==============================] - 0s 2ms/step - loss: 11.4038\n",
      "Epoch 4/20\n",
      "53/53 [==============================] - 0s 2ms/step - loss: 10.4852\n",
      "Epoch 5/20\n",
      "53/53 [==============================] - 0s 2ms/step - loss: 9.8336\n",
      "Epoch 6/20\n",
      "53/53 [==============================] - 0s 2ms/step - loss: 9.4108\n",
      "Epoch 7/20\n",
      "53/53 [==============================] - 0s 2ms/step - loss: 9.1034\n",
      "Epoch 8/20\n",
      "53/53 [==============================] - 0s 2ms/step - loss: 8.8682\n",
      "Epoch 9/20\n",
      "53/53 [==============================] - 0s 2ms/step - loss: 8.7073\n",
      "Epoch 10/20\n",
      "53/53 [==============================] - 0s 2ms/step - loss: 8.5650\n",
      "Epoch 11/20\n",
      "53/53 [==============================] - 0s 2ms/step - loss: 8.4548\n",
      "Epoch 12/20\n",
      "53/53 [==============================] - 0s 2ms/step - loss: 8.3905\n",
      "Epoch 13/20\n",
      "53/53 [==============================] - 0s 2ms/step - loss: 8.3206\n",
      "Epoch 14/20\n",
      "53/53 [==============================] - 0s 2ms/step - loss: 8.2499\n",
      "Epoch 15/20\n",
      "53/53 [==============================] - 0s 2ms/step - loss: 8.2185\n",
      "Epoch 16/20\n",
      "53/53 [==============================] - 0s 2ms/step - loss: 8.1678\n",
      "Epoch 17/20\n",
      "53/53 [==============================] - 0s 2ms/step - loss: 8.1240\n",
      "Epoch 18/20\n",
      "53/53 [==============================] - 0s 2ms/step - loss: 8.0953\n",
      "Epoch 19/20\n",
      "53/53 [==============================] - 0s 2ms/step - loss: 8.0666\n",
      "Epoch 20/20\n",
      "53/53 [==============================] - 0s 2ms/step - loss: 8.0407\n",
      "14/14 [==============================] - 0s 2ms/step - loss: 8.3090\n",
      "Root Mean Squared Error on Test Data: 2.8825384076910345\n"
     ]
    }
   ],
   "source": [
    "import numpy as np\n",
    "from keras.models import Sequential\n",
    "from keras.layers import Dense\n",
    "\n",
    "model=Sequential()\n",
    "model.add(Dense(10,activation='relu',input_shape=(None, 6)))\n",
    "model.add(Dense(1))\n",
    "\n",
    "model.compile(optimizer='adam', loss='mse')\n",
    "\n",
    "model.fit (X_train,y_train,epochs=20)\n",
    "\n",
    "mse = model.evaluate(X_test, y_test)\n",
    "print(f'Root Mean Squared Error on Test Data: {mse**.5}')\n",
    "\n"
   ]
  }
 ],
 "metadata": {
  "kernelspec": {
   "display_name": "Python 3",
   "language": "python",
   "name": "python3"
  },
  "language_info": {
   "codemirror_mode": {
    "name": "ipython",
    "version": 3
   },
   "file_extension": ".py",
   "mimetype": "text/x-python",
   "name": "python",
   "nbconvert_exporter": "python",
   "pygments_lexer": "ipython3",
   "version": "3.10.0"
  },
  "orig_nbformat": 4
 },
 "nbformat": 4,
 "nbformat_minor": 2
}
