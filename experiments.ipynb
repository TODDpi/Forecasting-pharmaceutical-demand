{
 "cells": [
  {
   "cell_type": "code",
   "execution_count": null,
   "metadata": {},
   "outputs": [],
   "source": [
    "import neat\n",
    "import pandas as pd\n",
    "import matplotlib.pyplot as plt\n",
    "from sklearn.model_selection import train_test_split\n",
    "import numpy as np\n",
    "from sklearn.preprocessing import LabelEncoder\n",
    "import graphviz\n",
    "excel_file = \"F:\\Thesis\\salesdaily-kaggle.xlsx\"\n",
    "sheet_name = \"Worksheet\"\n",
    "column_name = \"M01AB\"\n",
    "\n",
    "df = pd.read_excel(excel_file, sheet_name=sheet_name)\n",
    "DATA=df.drop(columns=['datum','Year','Hour',])\n",
    "\n",
    "\n",
    "print(DATA.head(50))\n",
    "\"\"\" plt.plot(DATA['Month'],DATA['M01AB'],'o-')\n",
    "plt.show() \"\"\""
   ]
  },
  {
   "cell_type": "code",
   "execution_count": null,
   "metadata": {},
   "outputs": [],
   "source": [
    "med1data= DATA[['M01AB','Month','Weekday Name']].copy()\n",
    "label_encoder = LabelEncoder()\n",
    "med1data['Weekday Name'] = label_encoder.fit_transform(med1data['Weekday Name'])\n",
    "\"\"\" print(med1data.head()) \"\"\"\n",
    "\n",
    "for i in range (1,8):\n",
    "    med1data[f'Lag{i}']=med1data['M01AB'].shift(i)\n",
    "med1data.dropna(inplace=True)\n",
    "print(med1data.head(100))\n"
   ]
  },
  {
   "cell_type": "code",
   "execution_count": null,
   "metadata": {},
   "outputs": [],
   "source": [
    "x=med1data.drop(columns='M01AB')\n",
    "y=med1data['M01AB']\n",
    "\n",
    "x_train,x_test,y_train,y_test= train_test_split(x,y,train_size=.8,random_state=42)\n",
    "\"\"\" print(x_train,x_test) \"\"\"\n",
    "\"\"\" x_test,x_val, y_test, y_val=train_test_split(x_train,y_train,train_size=.5,random_state=42) \"\"\"\n",
    "\"\"\" print(\"Shape of x_train:\", x_train.shape)\n",
    "print(\"Shape of x_test:\", x_test.shape)\n",
    "print(y_test.shape) \"\"\"\n",
    "\n",
    "\"\"\" print(x_train.info()) \"\"\"\n",
    "\n",
    "config_file=\"F:\\Thesis\\SP maam code snippets\\[NEAT].txt\"\n",
    "config= neat.Config(neat.DefaultGenome,neat.DefaultReproduction,neat.DefaultSpeciesSet,neat.DefaultStagnation,config_file)\n"
   ]
  },
  {
   "cell_type": "code",
   "execution_count": null,
   "metadata": {},
   "outputs": [],
   "source": [
    "\n",
    "def evaluate_fitness(genomes, config):\n",
    "    for genome_id, genome in genomes:\n",
    "        net = neat.nn.FeedForwardNetwork.create(genome, config)\n",
    "        predictions = []\n",
    "\n",
    "        # Make predictions on the training data\n",
    "        for _, input_data in x_train.iterrows():\n",
    "            prediction = net.activate(input_data.values)\n",
    "            predictions.append(prediction[0])  # Assuming single output node\n",
    "\n",
    "        # Calculate fitness score based on predictions and target values using MSE\n",
    "        mse = np.mean((np.array(predictions) - y_train.values) ** 2)\n",
    "        fitness = 1 / (1 + mse)\n",
    "        genome.fitness = fitness\n",
    "\n",
    "\n",
    "\n",
    "# Create NEAT population\n",
    "p = neat.Population(config)\n",
    "\n",
    "# Add reporters for monitoring progress\n",
    "p.add_reporter(neat.StdOutReporter(True))\n",
    "p.add_reporter(neat.Checkpointer(5))  # Save checkpoints every 5 generations\n",
    "\n",
    "# Run NEAT algorithm\n",
    "num_generations = 100\n",
    "for i in range(num_generations):\n",
    "    # Evaluate fitness for the current generation\n",
    "    winner = p.run(lambda genomes, config: evaluate_fitness(genomes, config), 1)\n",
    "    valid_genomes = [genome for genome in p.population.values() if genome.fitness is not None]\n",
    "\n",
    "    # Get the best genome from the current generation\n",
    "    best_genome = max(valid_genomes, key=lambda x: x.fitness)\n",
    "\n",
    "# After training, you can use the best genome to make predictions on the test data\n",
    "best_net = neat.nn.FeedForwardNetwork.create(best_genome, config)\n",
    "predictions = []\n",
    "\n",
    "for _, input_data in x_test.iterrows():\n",
    "    prediction = best_net.activate(input_data.values)\n",
    "    predictions.append(prediction[0])  # Assuming single output node\n",
    "\n",
    "# Evaluate the predictions\n",
    "mse_test = np.mean((np.array(predictions) - y_test.values) ** 2)\n",
    "print(\"Mean Squared Error on Test Data:\", mse_test)\n"
   ]
  },
  {
   "cell_type": "code",
   "execution_count": 19,
   "metadata": {},
   "outputs": [],
   "source": [
    "best_genome_id = 13874\n",
    "best_genome = None\n",
    "\n",
    "# Find the best genome from the NEAT algorithm\n",
    "for genome_id, genome in p.population.items():  # Access the population directly\n",
    "    if genome_id == best_genome_id:\n",
    "        best_genome = genome\n",
    "        break\n",
    "best_net = neat.nn.FeedForwardNetwork.create(best_genome, config)\n"
   ]
  },
  {
   "cell_type": "code",
   "execution_count": 26,
   "metadata": {},
   "outputs": [
    {
     "ename": "AttributeError",
     "evalue": "'FeedForwardNetwork' object has no attribute 'input_size'",
     "output_type": "error",
     "traceback": [
      "\u001b[1;31m---------------------------------------------------------------------------\u001b[0m",
      "\u001b[1;31mAttributeError\u001b[0m                            Traceback (most recent call last)",
      "Cell \u001b[1;32mIn[26], line 30\u001b[0m\n\u001b[0;32m     26\u001b[0m     \u001b[38;5;28;01mif\u001b[39;00m view:\n\u001b[0;32m     27\u001b[0m         dot\u001b[38;5;241m.\u001b[39mview()\n\u001b[1;32m---> 30\u001b[0m \u001b[43mdraw_network\u001b[49m\u001b[43m(\u001b[49m\u001b[43mbest_net\u001b[49m\u001b[43m,\u001b[49m\u001b[43m \u001b[49m\u001b[43mconfig\u001b[49m\u001b[43m)\u001b[49m\n",
      "Cell \u001b[1;32mIn[26], line 7\u001b[0m, in \u001b[0;36mdraw_network\u001b[1;34m(network, filename, view)\u001b[0m\n\u001b[0;32m      4\u001b[0m dot \u001b[38;5;241m=\u001b[39m graphviz\u001b[38;5;241m.\u001b[39mDigraph()\n\u001b[0;32m      6\u001b[0m \u001b[38;5;66;03m# Add input nodes\u001b[39;00m\n\u001b[1;32m----> 7\u001b[0m \u001b[38;5;28;01mfor\u001b[39;00m i \u001b[38;5;129;01min\u001b[39;00m \u001b[38;5;28mrange\u001b[39m(\u001b[43mnetwork\u001b[49m\u001b[38;5;241;43m.\u001b[39;49m\u001b[43minput_size\u001b[49m):\n\u001b[0;32m      8\u001b[0m     dot\u001b[38;5;241m.\u001b[39mnode(\u001b[38;5;124mf\u001b[39m\u001b[38;5;124m\"\u001b[39m\u001b[38;5;124mI\u001b[39m\u001b[38;5;132;01m{\u001b[39;00mi\u001b[38;5;132;01m}\u001b[39;00m\u001b[38;5;124m\"\u001b[39m, shape\u001b[38;5;241m=\u001b[39m\u001b[38;5;124m\"\u001b[39m\u001b[38;5;124mcircle\u001b[39m\u001b[38;5;124m\"\u001b[39m, color\u001b[38;5;241m=\u001b[39m\u001b[38;5;124m\"\u001b[39m\u001b[38;5;124mblue\u001b[39m\u001b[38;5;124m\"\u001b[39m)\n\u001b[0;32m     10\u001b[0m \u001b[38;5;66;03m# Add hidden nodes\u001b[39;00m\n",
      "\u001b[1;31mAttributeError\u001b[0m: 'FeedForwardNetwork' object has no attribute 'input_size'"
     ]
    }
   ],
   "source": [
    "import graphviz\n",
    "\n",
    "def draw_network(network, filename=None, view=False):\n",
    "    dot = graphviz.Digraph()\n",
    "\n",
    "    # Add input nodes\n",
    "    for i in range(network.input_size):\n",
    "        dot.node(f\"I{i}\", shape=\"circle\", color=\"blue\")\n",
    "\n",
    "    # Add hidden nodes\n",
    "    for i in range(network.input_size, network.input_size + network.hidden_size):\n",
    "        dot.node(f\"H{i}\", shape=\"circle\", color=\"green\")\n",
    "\n",
    "    # Add output nodes\n",
    "    for i in range(network.input_size + network.hidden_size, network.input_size + network.hidden_size + network.output_size):\n",
    "        dot.node(f\"O{i}\", shape=\"circle\", color=\"red\")\n",
    "\n",
    "    # Add edges\n",
    "    for node_id, node in network.connections.items():\n",
    "        if node.enabled:\n",
    "            in_node, out_node = node.key\n",
    "            dot.edge(f\"{in_node}\", f\"{out_node}\", label=str(round(node.weight, 2)))\n",
    "\n",
    "    if filename:\n",
    "        dot.render(filename, format='png', cleanup=True)\n",
    "    if view:\n",
    "        dot.view()\n",
    "\n",
    "\n",
    "draw_network(best_net, config)\n"
   ]
  }
 ],
 "metadata": {
  "kernelspec": {
   "display_name": "Python 3",
   "language": "python",
   "name": "python3"
  },
  "language_info": {
   "codemirror_mode": {
    "name": "ipython",
    "version": 3
   },
   "file_extension": ".py",
   "mimetype": "text/x-python",
   "name": "python",
   "nbconvert_exporter": "python",
   "pygments_lexer": "ipython3",
   "version": "3.10.0"
  }
 },
 "nbformat": 4,
 "nbformat_minor": 2
}
